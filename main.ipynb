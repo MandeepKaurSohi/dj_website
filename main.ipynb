{
 "cells": [
  {
   "cell_type": "code",
   "execution_count": 1,
   "id": "151b974e-83db-47ad-8eac-3a4544ab32d0",
   "metadata": {},
   "outputs": [
    {
     "name": "stdout",
     "output_type": "stream",
     "text": [
      "Project structure created under dj_website\n"
     ]
    }
   ],
   "source": [
    "import os\n",
    "\n",
    "# Define the base directory for your project\n",
    "base_dir = \"dj_website\"\n",
    "\n",
    "# Define the folder structure\n",
    "folders = [\n",
    "    f\"{base_dir}/static/css\",\n",
    "    f\"{base_dir}/static/images\",\n",
    "    f\"{base_dir}/templates\",\n",
    "]\n",
    "\n",
    "# Create the folders\n",
    "for folder in folders:\n",
    "    os.makedirs(folder, exist_ok=True)\n",
    "\n",
    "# Create placeholder files in the base directory\n",
    "files = [\n",
    "    f\"{base_dir}/app.py\",\n",
    "    f\"{base_dir}/database_setup.py\",\n",
    "    f\"{base_dir}/requirements.txt\",\n",
    "    f\"{base_dir}/database.db\",\n",
    "    f\"{base_dir}/templates/base.html\",\n",
    "    f\"{base_dir}/templates/index.html\",\n",
    "    f\"{base_dir}/templates/about.html\",\n",
    "    f\"{base_dir}/templates/contact.html\",\n",
    "    f\"{base_dir}/static/css/style.css\",\n",
    "]\n",
    "\n",
    "# Create empty files\n",
    "for file in files:\n",
    "    with open(file, \"w\") as f:\n",
    "        pass\n",
    "\n",
    "print(f\"Project structure created under {base_dir}\")"
   ]
  },
  {
   "cell_type": "code",
   "execution_count": null,
   "id": "9ec1a306-751a-405c-a304-fafbb2d1babc",
   "metadata": {},
   "outputs": [],
   "source": []
  }
 ],
 "metadata": {
  "kernelspec": {
   "display_name": "Python 3 (ipykernel)",
   "language": "python",
   "name": "python3"
  },
  "language_info": {
   "codemirror_mode": {
    "name": "ipython",
    "version": 3
   },
   "file_extension": ".py",
   "mimetype": "text/x-python",
   "name": "python",
   "nbconvert_exporter": "python",
   "pygments_lexer": "ipython3",
   "version": "3.10.14"
  }
 },
 "nbformat": 4,
 "nbformat_minor": 5
}
